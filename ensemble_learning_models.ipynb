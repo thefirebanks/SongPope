{
 "cells": [
  {
   "cell_type": "code",
   "execution_count": 2,
   "metadata": {},
   "outputs": [],
   "source": [
    "import pandas as pd\n",
    "import numpy as np\n",
    "import matplotlib.pyplot as plt"
   ]
  },
  {
   "cell_type": "code",
   "execution_count": 1,
   "metadata": {},
   "outputs": [
    {
     "name": "stderr",
     "output_type": "stream",
     "text": [
      "/anaconda3/lib/python3.6/site-packages/sklearn/ensemble/weight_boosting.py:29: DeprecationWarning: numpy.core.umath_tests is an internal NumPy module and should not be imported. It will be removed in a future NumPy release.\n",
      "  from numpy.core.umath_tests import inner1d\n"
     ]
    }
   ],
   "source": [
    "from sklearn.ensemble import RandomForestClassifier\n",
    "from sklearn import metrics\n",
    "from sklearn.model_selection import train_test_split\n",
    "from sklearn.model_selection import cross_val_score"
   ]
  },
  {
   "cell_type": "code",
   "execution_count": 67,
   "metadata": {},
   "outputs": [],
   "source": [
    "file_name = \"/Users/dafirebanks/Downloads/SongCSV.csv\"\n",
    "df = pd.read_csv(file_name)"
   ]
  },
  {
   "cell_type": "code",
   "execution_count": 5,
   "metadata": {},
   "outputs": [
    {
     "data": {
      "text/plain": [
       "Index(['SongNumber', 'SongID', 'AlbumID', 'AlbumName', 'ArtistFamiliarity',\n",
       "       'ArtistHotttnesss', 'ArtistID', 'ArtistLatitude', 'ArtistLocation',\n",
       "       'ArtistLongitude', 'ArtistName', 'BarsConfidence', 'BarsStart',\n",
       "       'BeatsConfidence', 'BeatsStart', 'Danceability', 'Duration',\n",
       "       'EndOfFadeIn', 'Energy', 'KeySignature', 'KeySignatureConfidence',\n",
       "       'Loudness', 'Mode', 'ModeConfidence', 'SectionsConfidence',\n",
       "       'SectionsStart', 'SegmentsConfidence', 'SegmentsLoudnessMax',\n",
       "       'SegmentsLoudnessMaxTime', 'SegmentsLoudnessMaxStart',\n",
       "       'SegmentsPitches', 'SegmentsStart', 'SegmentsTimbre', 'SongHotttnesss',\n",
       "       'TatumsConfidence', 'TatumsStart', 'Tempo', 'TimeSignature',\n",
       "       'TimeSignatureConfidence', 'Title', 'Year'],\n",
       "      dtype='object')"
      ]
     },
     "execution_count": 5,
     "metadata": {},
     "output_type": "execute_result"
    }
   ],
   "source": [
    "df.columns"
   ]
  },
  {
   "cell_type": "code",
   "execution_count": 73,
   "metadata": {},
   "outputs": [],
   "source": [
    "#### COLUMNS THAT ARE LISTS \n",
    "# Bars Confidence (99,)\n",
    "# Bars Start (99,)\n",
    "\n",
    "# Beats Confidence (397,)\n",
    "# Beats Start (397,)\n",
    "\n",
    "# Sections Confidence (10,)\n",
    "# Sections Start (10,)\n",
    "\n",
    "# SegmentsConfidence (935,)\n",
    "# SegmentsLoudness max time (935,)\n",
    "# SegmentsLoudness start (935, )\n",
    "# Segments Start (935,)\n",
    "\n",
    "# SegmentsPitches (935, 12)\n",
    "# Segments Timbre (935, 12)\n",
    "\n",
    "# Tatums confidence (794,)\n",
    "# Tatums Start (794,)"
   ]
  },
  {
   "cell_type": "code",
   "execution_count": 68,
   "metadata": {},
   "outputs": [],
   "source": [
    "df = df.drop(df[\"Energy\"])"
   ]
  },
  {
   "cell_type": "code",
   "execution_count": 69,
   "metadata": {},
   "outputs": [],
   "source": [
    "list_columns = [\"BarsConfidence\", \"BarsStart\", \"BeatsConfidence\", \"BeatsStart\", \"SectionsConfidence\", \"SectionsStart\", \n",
    "                \"SegmentsConfidence\", \"SegmentsLoudnessMax\", \"SegmentsLoudnessMaxTime\", \"SegmentsLoudnessMaxStart\", \"SegmentsPitches\", \n",
    "                \"SegmentsStart\", \"SegmentsTimbre\", \"TatumsConfidence\", \"TatumsStart\"]\n",
    "\n",
    "def transform_str_to_list(df, columns):\n",
    "    for col in columns:\n",
    "        all_cells = []\n",
    "        \n",
    "        # Modify each cell \n",
    "        for i in range(1, len(df[col]) + 1):\n",
    "            # Get list\n",
    "            horrid_string = df[col][i]\n",
    "            \n",
    "            # Remove non-float values\n",
    "            pretty_string = horrid_string.replace(\"[\", \"\").replace(\"]\", \"\").replace(\"...\", \"\")\n",
    "            \n",
    "            # Convert to a list of floats\n",
    "            pretty_list = pretty_string.split()\n",
    "            try:\n",
    "                beautiful_list = np.array([float(el) for el in pretty_list])\n",
    "            except:\n",
    "                print(col, i)\n",
    "                print(pretty_list)\n",
    "            \n",
    "            # Add to list of cells\n",
    "            all_cells.append(beautiful_list)\n",
    "        \n",
    "        # Make it a new column\n",
    "        df[col] = pd.Series(all_cells)"
   ]
  },
  {
   "cell_type": "code",
   "execution_count": 70,
   "metadata": {},
   "outputs": [],
   "source": [
    "transform_str_to_list(df, list_columns)"
   ]
  },
  {
   "cell_type": "code",
   "execution_count": 72,
   "metadata": {},
   "outputs": [
    {
     "data": {
      "text/plain": [
       "array([  0.39309,   2.75109,   5.13649,   7.52978,   9.95582,  12.38461,\n",
       "        14.80287,  18.76487,  21.62017,  24.19393,  26.55564,  29.88044,\n",
       "        32.18203,  34.56346,  37.12946,  39.54937,  41.94023,  44.30982,\n",
       "        46.63997,  49.02193,  51.39808,  53.76505,  56.1252 ,  58.2811 ,\n",
       "        60.47129,  62.76252,  65.14527,  67.53328,  69.66937,  71.78012,\n",
       "        74.14577,  76.53773,  78.89286,  81.34618,  83.84617,  86.35194,\n",
       "        88.71759,  91.05417,  93.45012,  95.64963,  98.01096, 100.34742,\n",
       "       102.66176, 104.84234, 107.05525, 109.32195, 111.55548, 113.7171 ,\n",
       "       115.97854, 118.25863, 120.53234, 122.83515, 125.12435, 127.39863,\n",
       "       129.67619, 131.96568, 134.27184, 136.6043 , 138.94728, 141.27316,\n",
       "       143.60168, 146.02489, 148.65472, 151.13881, 153.52388, 155.89711])"
      ]
     },
     "execution_count": 72,
     "metadata": {},
     "output_type": "execute_result"
    }
   ],
   "source": [
    "df[\"BarsStart\"][2]"
   ]
  },
  {
   "cell_type": "code",
   "execution_count": 22,
   "metadata": {},
   "outputs": [],
   "source": [
    "# Transform all arrays to the minimum\n",
    "def reduce_arrays(col_name):\n",
    "    col = df[col_name]\n",
    "    \n",
    "    min_len = len(col[1])\n",
    "    \n",
    "    # Get minimum length \n",
    "    for cell in col:\n",
    "        if len(cell) < min_len:\n",
    "            min_len = len(cell)\n",
    "    \n",
    "    print(\"minimum length is\", min_len)\n",
    "    \n",
    "    for cell in col:\n",
    "    \n",
    "    # Transform all arrays in the column to the minimum length\n",
    "    for i in range(1, len(col) + 1):\n",
    "        col[i] = col[i][:min_len]\n",
    "    \n",
    "    return col"
   ]
  },
  {
   "cell_type": "code",
   "execution_count": 23,
   "metadata": {},
   "outputs": [
    {
     "name": "stdout",
     "output_type": "stream",
     "text": [
      "minimum length is 2\n"
     ]
    },
    {
     "name": "stderr",
     "output_type": "stream",
     "text": [
      "/anaconda3/lib/python3.6/site-packages/ipykernel_launcher.py:16: SettingWithCopyWarning: \n",
      "A value is trying to be set on a copy of a slice from a DataFrame\n",
      "\n",
      "See the caveats in the documentation: http://pandas.pydata.org/pandas-docs/stable/indexing.html#indexing-view-versus-copy\n",
      "  app.launch_new_instance()\n"
     ]
    }
   ],
   "source": [
    "df[\"BarsConfidence\"] = reduce_arrays(\"BarsConfidence\")"
   ]
  },
  {
   "cell_type": "code",
   "execution_count": 32,
   "metadata": {},
   "outputs": [],
   "source": [
    "da = df[\"BarsStart\"][1]"
   ]
  },
  {
   "cell_type": "code",
   "execution_count": null,
   "metadata": {},
   "outputs": [],
   "source": [
    "# Preprocessing\n",
    "X = []\n",
    "y = []\n",
    "\n",
    "print(X.shape, y.shape)\n",
    "\n",
    "X_train, X_test, y_train, y_test = train_test_split(X, y, test_size=0.33, random_state=42)"
   ]
  }
 ],
 "metadata": {
  "kernelspec": {
   "display_name": "Python 3",
   "language": "python",
   "name": "python3"
  },
  "language_info": {
   "codemirror_mode": {
    "name": "ipython",
    "version": 3
   },
   "file_extension": ".py",
   "mimetype": "text/x-python",
   "name": "python",
   "nbconvert_exporter": "python",
   "pygments_lexer": "ipython3",
   "version": "3.6.8"
  }
 },
 "nbformat": 4,
 "nbformat_minor": 2
}
