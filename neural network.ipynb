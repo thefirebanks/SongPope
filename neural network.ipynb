{
 "cells": [
  {
   "cell_type": "code",
   "execution_count": 2,
   "metadata": {},
   "outputs": [
    {
     "name": "stderr",
     "output_type": "stream",
     "text": [
      "/Users/Kyelee/anaconda3/lib/python3.6/site-packages/h5py/__init__.py:34: FutureWarning: Conversion of the second argument of issubdtype from `float` to `np.floating` is deprecated. In future, it will be treated as `np.float64 == np.dtype(float).type`.\n",
      "  from ._conv import register_converters as _register_converters\n",
      "Using TensorFlow backend.\n"
     ]
    }
   ],
   "source": [
    "import numpy as np \n",
    "import pandas as pd \n",
    "import matplotlib.pyplot as plt\n",
    "%matplotlib inline\n",
    "import keras\n",
    "import sklearn\n",
    "\n",
    "# from subprocess import check_output\n",
    "# print(check_output([\"ls\", \"../input\"]).decode(\"utf8\"))"
   ]
  },
  {
   "cell_type": "code",
   "execution_count": 3,
   "metadata": {
    "collapsed": true
   },
   "outputs": [],
   "source": [
    "songs = pd.read_csv('SongCSV.csv', ',')"
   ]
  },
  {
   "cell_type": "code",
   "execution_count": 4,
   "metadata": {},
   "outputs": [
    {
     "data": {
      "text/plain": [
       "Index(['SongNumber', 'SongID', 'AlbumID', 'AlbumName', 'ArtistFamiliarity',\n",
       "       'ArtistHotttnesss', 'ArtistID', 'ArtistLatitude', 'ArtistLocation',\n",
       "       'ArtistLongitude', 'ArtistName', 'BarsConfidence', 'BarsStart',\n",
       "       'BeatsConfidence', 'BeatsStart', 'Danceability', 'Duration',\n",
       "       'EndOfFadeIn', 'Energy', 'KeySignature', 'KeySignatureConfidence',\n",
       "       'Loudness', 'Mode', 'ModeConfidence', 'SectionsConfidence',\n",
       "       'SectionsStart', 'SegmentsConfidence', 'SegmentsLoudnessMax',\n",
       "       'SegmentsLoudnessMaxTime', 'SegmentsLoudnessMaxStart',\n",
       "       'SegmentsPitches', 'SegmentsStart', 'SegmentsTimbre', 'SongHotttnesss',\n",
       "       'TatumsConfidence', 'TatumsStart', 'Tempo', 'TimeSignature',\n",
       "       'TimeSignatureConfidence', 'Title', 'Year'],\n",
       "      dtype='object')"
      ]
     },
     "execution_count": 4,
     "metadata": {},
     "output_type": "execute_result"
    }
   ],
   "source": [
    "songs.columns"
   ]
  },
  {
   "cell_type": "code",
   "execution_count": 5,
   "metadata": {
    "collapsed": true
   },
   "outputs": [],
   "source": [
    "songs.shape\n",
    "songs = songs.drop(columns = ['SongNumber', 'SongID', 'AlbumID', 'ArtistID'])"
   ]
  },
  {
   "cell_type": "code",
   "execution_count": 6,
   "metadata": {},
   "outputs": [
    {
     "data": {
      "text/html": [
       "<div>\n",
       "<style scoped>\n",
       "    .dataframe tbody tr th:only-of-type {\n",
       "        vertical-align: middle;\n",
       "    }\n",
       "\n",
       "    .dataframe tbody tr th {\n",
       "        vertical-align: top;\n",
       "    }\n",
       "\n",
       "    .dataframe thead th {\n",
       "        text-align: right;\n",
       "    }\n",
       "</style>\n",
       "<table border=\"1\" class=\"dataframe\">\n",
       "  <thead>\n",
       "    <tr style=\"text-align: right;\">\n",
       "      <th></th>\n",
       "      <th>AlbumName</th>\n",
       "      <th>ArtistFamiliarity</th>\n",
       "      <th>ArtistHotttnesss</th>\n",
       "      <th>ArtistLatitude</th>\n",
       "      <th>ArtistLocation</th>\n",
       "      <th>ArtistLongitude</th>\n",
       "      <th>ArtistName</th>\n",
       "      <th>BarsConfidence</th>\n",
       "      <th>BarsStart</th>\n",
       "      <th>BeatsConfidence</th>\n",
       "      <th>...</th>\n",
       "      <th>SegmentsStart</th>\n",
       "      <th>SegmentsTimbre</th>\n",
       "      <th>SongHotttnesss</th>\n",
       "      <th>TatumsConfidence</th>\n",
       "      <th>TatumsStart</th>\n",
       "      <th>Tempo</th>\n",
       "      <th>TimeSignature</th>\n",
       "      <th>TimeSignatureConfidence</th>\n",
       "      <th>Title</th>\n",
       "      <th>Year</th>\n",
       "    </tr>\n",
       "  </thead>\n",
       "  <tbody>\n",
       "    <tr>\n",
       "      <th>0</th>\n",
       "      <td>b'Je Sais Que La Terre Est Plate (Deluxe)'</td>\n",
       "      <td>0.557460</td>\n",
       "      <td>0.386152</td>\n",
       "      <td>46.71067</td>\n",
       "      <td>b'France'</td>\n",
       "      <td>1.71819</td>\n",
       "      <td>b'Rapha\\xc3\\xabl'</td>\n",
       "      <td>[0.179 0.373 0.127 0.015 0.012 0.119 0.083 0.0...</td>\n",
       "      <td>[  0.52458   2.4444    4.3658    6.30006   8.2...</td>\n",
       "      <td>[0.886 0.725 0.748 0.721 0.784 0.417 0.421 0.5...</td>\n",
       "      <td>...</td>\n",
       "      <td>[  0.        0.19188   0.60499   0.84939   1.1...</td>\n",
       "      <td>[[   0.     171.13     9.469 ...    0.973  -10...</td>\n",
       "      <td>0.547953</td>\n",
       "      <td>[0.    0.    0.    0.    0.    0.    0.    0. ...</td>\n",
       "      <td>[4.2570000e-02 2.8357000e-01 5.2458000e-01 7.6...</td>\n",
       "      <td>124.059</td>\n",
       "      <td>4</td>\n",
       "      <td>0.372</td>\n",
       "      <td>b'Je Sais Que La Terre Est Plate'</td>\n",
       "      <td>2008</td>\n",
       "    </tr>\n",
       "    <tr>\n",
       "      <th>1</th>\n",
       "      <td>b'Comme Vous'</td>\n",
       "      <td>0.626958</td>\n",
       "      <td>0.434860</td>\n",
       "      <td>NaN</td>\n",
       "      <td>b''</td>\n",
       "      <td>NaN</td>\n",
       "      <td>b'Julie Zenatti'</td>\n",
       "      <td>[0.716 0.306 0.015 0.572 0.529 0.353 0.206 0.9...</td>\n",
       "      <td>[  8.69527  12.01758  14.81363  20.09003  22.6...</td>\n",
       "      <td>[0.773 0.247 0.402 0.115 0.092 0.436 0.524 0.4...</td>\n",
       "      <td>...</td>\n",
       "      <td>[  0.        0.51379   0.89138   1.30912   1.6...</td>\n",
       "      <td>[[ 8.00000e-03  1.70986e+02  9.12600e+00 ...  ...</td>\n",
       "      <td>0.475638</td>\n",
       "      <td>[0.365 0.321 0.29  0.264 0.238 0.217 0.208 0.1...</td>\n",
       "      <td>[  0.59161   0.84042   1.08799   1.33555   1.5...</td>\n",
       "      <td>80.084</td>\n",
       "      <td>4</td>\n",
       "      <td>0.533</td>\n",
       "      <td>b'On Efface'</td>\n",
       "      <td>2004</td>\n",
       "    </tr>\n",
       "    <tr>\n",
       "      <th>2</th>\n",
       "      <td>b'Watkins Ale -  Music of the English Renaissa...</td>\n",
       "      <td>0.425724</td>\n",
       "      <td>0.000000</td>\n",
       "      <td>NaN</td>\n",
       "      <td>b''</td>\n",
       "      <td>NaN</td>\n",
       "      <td>b'The Baltimore Consort'</td>\n",
       "      <td>[0.014 0.025 0.049 0.029 0.11  0.484 0.357 0.0...</td>\n",
       "      <td>[ 1.95344  6.35701 10.70579 15.07913 19.48322 ...</td>\n",
       "      <td>[0.506 0.467 0.45  0.682 0.341 0.406 0.383 0.5...</td>\n",
       "      <td>...</td>\n",
       "      <td>[ 0.       0.97365  1.34431  1.81351  2.19764 ...</td>\n",
       "      <td>[[   1.337  145.247  -43.274 ...   16.283  -13...</td>\n",
       "      <td>NaN</td>\n",
       "      <td>[0.307 0.305 0.291 0.284 0.281 0.28  0.276 0.2...</td>\n",
       "      <td>[ 1.11537  1.39701  1.67864  1.95344  2.23097 ...</td>\n",
       "      <td>54.874</td>\n",
       "      <td>4</td>\n",
       "      <td>0.000</td>\n",
       "      <td>b'Howells Delight'</td>\n",
       "      <td>0</td>\n",
       "    </tr>\n",
       "    <tr>\n",
       "      <th>3</th>\n",
       "      <td>bDon't Worry Lady\"\"</td>\n",
       "      <td>0.611495</td>\n",
       "      <td>0.334520</td>\n",
       "      <td>NaN</td>\n",
       "      <td>b''</td>\n",
       "      <td>NaN</td>\n",
       "      <td>b'I Hate Sally'</td>\n",
       "      <td>[0.095 0.147 0.157 0.191 0.115 0.222 0.275 0.0...</td>\n",
       "      <td>[  0.39309   2.75109   5.13649   7.52978   9.9...</td>\n",
       "      <td>[0.862 0.509 0.011 0.39  0.479 0.422 0.459 0.4...</td>\n",
       "      <td>...</td>\n",
       "      <td>[0.0000000e+00 7.3060000e-02 3.6862000e-01 6.4...</td>\n",
       "      <td>[[  14.832  -56.33    69.981 ...   92.933   29...</td>\n",
       "      <td>NaN</td>\n",
       "      <td>[0.731 0.628 0.526 0.359 0.287 0.246 0.21  0.1...</td>\n",
       "      <td>[1.1929000e-01 3.9309000e-01 6.5603000e-01 9.1...</td>\n",
       "      <td>77.150</td>\n",
       "      <td>3</td>\n",
       "      <td>0.369</td>\n",
       "      <td>b'Martha Served'</td>\n",
       "      <td>2007</td>\n",
       "    </tr>\n",
       "  </tbody>\n",
       "</table>\n",
       "<p>4 rows × 37 columns</p>\n",
       "</div>"
      ],
      "text/plain": [
       "                                           AlbumName  ArtistFamiliarity  \\\n",
       "0         b'Je Sais Que La Terre Est Plate (Deluxe)'           0.557460   \n",
       "1                                      b'Comme Vous'           0.626958   \n",
       "2  b'Watkins Ale -  Music of the English Renaissa...           0.425724   \n",
       "3                                bDon't Worry Lady\"\"           0.611495   \n",
       "\n",
       "   ArtistHotttnesss  ArtistLatitude ArtistLocation  ArtistLongitude  \\\n",
       "0          0.386152        46.71067      b'France'          1.71819   \n",
       "1          0.434860             NaN            b''              NaN   \n",
       "2          0.000000             NaN            b''              NaN   \n",
       "3          0.334520             NaN            b''              NaN   \n",
       "\n",
       "                 ArtistName  \\\n",
       "0         b'Rapha\\xc3\\xabl'   \n",
       "1          b'Julie Zenatti'   \n",
       "2  b'The Baltimore Consort'   \n",
       "3           b'I Hate Sally'   \n",
       "\n",
       "                                      BarsConfidence  \\\n",
       "0  [0.179 0.373 0.127 0.015 0.012 0.119 0.083 0.0...   \n",
       "1  [0.716 0.306 0.015 0.572 0.529 0.353 0.206 0.9...   \n",
       "2  [0.014 0.025 0.049 0.029 0.11  0.484 0.357 0.0...   \n",
       "3  [0.095 0.147 0.157 0.191 0.115 0.222 0.275 0.0...   \n",
       "\n",
       "                                           BarsStart  \\\n",
       "0  [  0.52458   2.4444    4.3658    6.30006   8.2...   \n",
       "1  [  8.69527  12.01758  14.81363  20.09003  22.6...   \n",
       "2  [ 1.95344  6.35701 10.70579 15.07913 19.48322 ...   \n",
       "3  [  0.39309   2.75109   5.13649   7.52978   9.9...   \n",
       "\n",
       "                                     BeatsConfidence  ...  \\\n",
       "0  [0.886 0.725 0.748 0.721 0.784 0.417 0.421 0.5...  ...   \n",
       "1  [0.773 0.247 0.402 0.115 0.092 0.436 0.524 0.4...  ...   \n",
       "2  [0.506 0.467 0.45  0.682 0.341 0.406 0.383 0.5...  ...   \n",
       "3  [0.862 0.509 0.011 0.39  0.479 0.422 0.459 0.4...  ...   \n",
       "\n",
       "                                       SegmentsStart  \\\n",
       "0  [  0.        0.19188   0.60499   0.84939   1.1...   \n",
       "1  [  0.        0.51379   0.89138   1.30912   1.6...   \n",
       "2  [ 0.       0.97365  1.34431  1.81351  2.19764 ...   \n",
       "3  [0.0000000e+00 7.3060000e-02 3.6862000e-01 6.4...   \n",
       "\n",
       "                                      SegmentsTimbre  SongHotttnesss  \\\n",
       "0  [[   0.     171.13     9.469 ...    0.973  -10...        0.547953   \n",
       "1  [[ 8.00000e-03  1.70986e+02  9.12600e+00 ...  ...        0.475638   \n",
       "2  [[   1.337  145.247  -43.274 ...   16.283  -13...             NaN   \n",
       "3  [[  14.832  -56.33    69.981 ...   92.933   29...             NaN   \n",
       "\n",
       "                                    TatumsConfidence  \\\n",
       "0  [0.    0.    0.    0.    0.    0.    0.    0. ...   \n",
       "1  [0.365 0.321 0.29  0.264 0.238 0.217 0.208 0.1...   \n",
       "2  [0.307 0.305 0.291 0.284 0.281 0.28  0.276 0.2...   \n",
       "3  [0.731 0.628 0.526 0.359 0.287 0.246 0.21  0.1...   \n",
       "\n",
       "                                         TatumsStart    Tempo  TimeSignature  \\\n",
       "0  [4.2570000e-02 2.8357000e-01 5.2458000e-01 7.6...  124.059              4   \n",
       "1  [  0.59161   0.84042   1.08799   1.33555   1.5...   80.084              4   \n",
       "2  [ 1.11537  1.39701  1.67864  1.95344  2.23097 ...   54.874              4   \n",
       "3  [1.1929000e-01 3.9309000e-01 6.5603000e-01 9.1...   77.150              3   \n",
       "\n",
       "   TimeSignatureConfidence                              Title  Year  \n",
       "0                    0.372  b'Je Sais Que La Terre Est Plate'  2008  \n",
       "1                    0.533                       b'On Efface'  2004  \n",
       "2                    0.000                 b'Howells Delight'     0  \n",
       "3                    0.369                   b'Martha Served'  2007  \n",
       "\n",
       "[4 rows x 37 columns]"
      ]
     },
     "execution_count": 6,
     "metadata": {},
     "output_type": "execute_result"
    }
   ],
   "source": [
    "songs.iloc[0:4, :]"
   ]
  },
  {
   "cell_type": "code",
   "execution_count": 21,
   "metadata": {},
   "outputs": [
    {
     "name": "stdout",
     "output_type": "stream",
     "text": [
      "(10000, 36)\n"
     ]
    }
   ],
   "source": [
    "df = songs.values\n",
    "X = np.column_stack((df[:, 0:2], df[:, 3:]))\n",
    "y = songs.ArtistHotttnesss\n",
    "\n",
    "print(X.shape)"
   ]
  },
  {
   "cell_type": "code",
   "execution_count": 22,
   "metadata": {
    "collapsed": true
   },
   "outputs": [],
   "source": [
    "import re\n",
    "def List(string):\n",
    "    return [float(i) for i in re.findall(\"\\d+\\.\\d+\", string)]"
   ]
  },
  {
   "cell_type": "code",
   "execution_count": 23,
   "metadata": {
    "collapsed": true
   },
   "outputs": [],
   "source": [
    "# getting columns with string lists that must be parsed\n",
    "\n",
    "indices = [] \n",
    "for i in range(1, X.shape[1]):\n",
    "    if type(X[0, i]) is str and len(X[0, i]) >= 30: # some larger, hopefully larger than all the real strings\n",
    "        indices.append(i)\n",
    "    \n",
    "for i in range(len(indices)):\n",
    "    for j in range(len(X)):\n",
    "        value = List(X[j, indices[i]])\n",
    "        X[j, indices[i]] = value"
   ]
  },
  {
   "cell_type": "code",
   "execution_count": 27,
   "metadata": {},
   "outputs": [
    {
     "name": "stdout",
     "output_type": "stream",
     "text": [
      "73\n",
      "137\n"
     ]
    }
   ],
   "source": []
  },
  {
   "cell_type": "code",
   "execution_count": 18,
   "metadata": {},
   "outputs": [
    {
     "data": {
      "text/plain": [
       "(10000, 36)"
      ]
     },
     "execution_count": 18,
     "metadata": {},
     "output_type": "execute_result"
    }
   ],
   "source": [
    "X.shape"
   ]
  },
  {
   "cell_type": "code",
   "execution_count": null,
   "metadata": {
    "collapsed": true
   },
   "outputs": [],
   "source": []
  }
 ],
 "metadata": {
  "kernelspec": {
   "display_name": "Python 3",
   "language": "python",
   "name": "python3"
  },
  "language_info": {
   "codemirror_mode": {
    "name": "ipython",
    "version": 3
   },
   "file_extension": ".py",
   "mimetype": "text/x-python",
   "name": "python",
   "nbconvert_exporter": "python",
   "pygments_lexer": "ipython3",
   "version": "3.6.3"
  }
 },
 "nbformat": 4,
 "nbformat_minor": 2
}
