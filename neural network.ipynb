{
 "cells": [
  {
   "cell_type": "code",
   "execution_count": 42,
   "metadata": {
    "collapsed": true
   },
   "outputs": [],
   "source": [
    "import numpy as np \n",
    "import pandas as pd \n",
    "import matplotlib.pyplot as plt\n",
    "%matplotlib inline\n",
    "import keras\n",
    "import sklearn\n",
    "\n",
    "from keras.models import Sequential\n",
    "from keras.layers.core import Dense, Dropout, Activation, Flatten\n",
    "from keras.optimizers import SGD, Adam, RMSprop, Adagrad\n",
    "from keras.utils import np_utils\n",
    "from keras.layers.convolutional import Conv2D\n",
    "from keras.layers.convolutional import MaxPooling2D\n",
    "from sklearn import model_selection\n",
    "from sklearn import preprocessing\n",
    "from sklearn.metrics import confusion_matrix, classification_report, roc_curve, roc_auc_score\n",
    "from sklearn.model_selection import GridSearchCV"
   ]
  },
  {
   "cell_type": "markdown",
   "metadata": {},
   "source": [
    "# Getting Dataframe with Lists Averaged\n",
    "Mostly commented out so that we can restart-run all"
   ]
  },
  {
   "cell_type": "code",
   "execution_count": 2,
   "metadata": {
    "collapsed": true
   },
   "outputs": [],
   "source": [
    "# file_name = \"SongCSV.csv\"\n",
    "# df = pd.read_csv(file_name)"
   ]
  },
  {
   "cell_type": "code",
   "execution_count": 3,
   "metadata": {
    "collapsed": true
   },
   "outputs": [],
   "source": [
    "# df = df.fillna(0)"
   ]
  },
  {
   "cell_type": "code",
   "execution_count": 4,
   "metadata": {
    "collapsed": true
   },
   "outputs": [],
   "source": [
    "list_columns = [\"BarsConfidence\", \"BarsStart\", \"BeatsConfidence\", \"BeatsStart\", \"SectionsConfidence\", \"SectionsStart\", \n",
    "                \"SegmentsConfidence\", \"SegmentsLoudnessMax\", \"SegmentsLoudnessMaxTime\", \"SegmentsLoudnessMaxStart\", \"SegmentsPitches\", \n",
    "                \"SegmentsStart\", \"SegmentsTimbre\", \"TatumsConfidence\", \"TatumsStart\"]\n",
    "\n",
    "def transform_str_to_list(df, columns):\n",
    "    for col in columns:\n",
    "        all_cells = []\n",
    "        \n",
    "        # Modify each cell \n",
    "        for i in range(0, len(df[col])):\n",
    "            \n",
    "            # Get list\n",
    "            horrid_string = df[col][i]\n",
    "            \n",
    "            # Remove non-float values\n",
    "            pretty_string = horrid_string.replace(\"[\", \"\").replace(\"]\", \"\").replace(\"...\", \"\")\n",
    "            \n",
    "            # Convert to a list of floats\n",
    "            pretty_list = pretty_string.split()\n",
    "            try:\n",
    "                beautiful_list = np.array([float(el) for el in pretty_list])\n",
    "            except:\n",
    "                print(col, i)\n",
    "                print(pretty_list)\n",
    "            \n",
    "            # Add to list of cells\n",
    "            all_cells.append(beautiful_list)\n",
    "        \n",
    "        # Make it a new column\n",
    "        df[col] = pd.Series(all_cells)"
   ]
  },
  {
   "cell_type": "code",
   "execution_count": 5,
   "metadata": {
    "collapsed": true
   },
   "outputs": [],
   "source": [
    "# transform_str_to_list(df, list_columns)"
   ]
  },
  {
   "cell_type": "code",
   "execution_count": 6,
   "metadata": {
    "collapsed": true
   },
   "outputs": [],
   "source": [
    "# df[\"BarsStart\"][2]"
   ]
  },
  {
   "cell_type": "code",
   "execution_count": 7,
   "metadata": {
    "collapsed": true
   },
   "outputs": [],
   "source": [
    "from tqdm import tqdm"
   ]
  },
  {
   "cell_type": "code",
   "execution_count": 8,
   "metadata": {
    "collapsed": true
   },
   "outputs": [],
   "source": [
    "def mean_arrays(df, columns):\n",
    "    for col in columns: \n",
    "        for i in tqdm(range(len(df[col]))):\n",
    "            if len(df[col][i]) != 0:\n",
    "                df[col][i] = np.mean(df[col][i])\n",
    "            else:\n",
    "                df[col][i] = 0\n",
    "                \n",
    "    return df"
   ]
  },
  {
   "cell_type": "code",
   "execution_count": 9,
   "metadata": {
    "collapsed": true
   },
   "outputs": [],
   "source": [
    "# mean_df = mean_arrays(df, list_columns)"
   ]
  },
  {
   "cell_type": "code",
   "execution_count": 10,
   "metadata": {
    "collapsed": true
   },
   "outputs": [],
   "source": [
    "# df.to_csv('average_df.csv')"
   ]
  },
  {
   "cell_type": "markdown",
   "metadata": {},
   "source": [
    "## Making Models\n",
    "Thanks to Daniel's beautiful code"
   ]
  },
  {
   "cell_type": "code",
   "execution_count": 11,
   "metadata": {
    "collapsed": true
   },
   "outputs": [],
   "source": [
    "# 2 dataframes: 1 with list averages, and the other one with uniform length lists\n",
    "list_df = pd.read_csv(\"Clean_Songs.csv\")\n",
    "average_df = pd.read_csv(\"average_df.csv\")"
   ]
  },
  {
   "cell_type": "code",
   "execution_count": 12,
   "metadata": {
    "collapsed": true
   },
   "outputs": [],
   "source": [
    "# Drop unnecessary columns\n",
    "list_df = list_df.drop(columns=[\"Unnamed: 0\"])\n",
    "average_df = average_df.drop(columns=[\"Unnamed: 0\", \"Energy\", \"SegmentsPitches\", \"SegmentsTimbre\", 'SongID', 'SongNumber', 'AlbumName', 'AlbumID', 'ArtistID', \n",
    "                              'ArtistLocation', 'ArtistName', 'Title'])"
   ]
  },
  {
   "cell_type": "code",
   "execution_count": 18,
   "metadata": {},
   "outputs": [
    {
     "data": {
      "text/html": [
       "<div>\n",
       "<style scoped>\n",
       "    .dataframe tbody tr th:only-of-type {\n",
       "        vertical-align: middle;\n",
       "    }\n",
       "\n",
       "    .dataframe tbody tr th {\n",
       "        vertical-align: top;\n",
       "    }\n",
       "\n",
       "    .dataframe thead th {\n",
       "        text-align: right;\n",
       "    }\n",
       "</style>\n",
       "<table border=\"1\" class=\"dataframe\">\n",
       "  <thead>\n",
       "    <tr style=\"text-align: right;\">\n",
       "      <th></th>\n",
       "      <th>ArtistFamiliarity</th>\n",
       "      <th>ArtistHotttnesss</th>\n",
       "      <th>ArtistLatitude</th>\n",
       "      <th>ArtistLongitude</th>\n",
       "      <th>BarsConfidence</th>\n",
       "      <th>BarsStart</th>\n",
       "      <th>BeatsConfidence</th>\n",
       "      <th>BeatsStart</th>\n",
       "      <th>Danceability</th>\n",
       "      <th>Duration</th>\n",
       "      <th>...</th>\n",
       "      <th>SegmentsLoudnessMaxTime</th>\n",
       "      <th>SegmentsLoudnessMaxStart</th>\n",
       "      <th>SegmentsStart</th>\n",
       "      <th>SongHotttnesss</th>\n",
       "      <th>TatumsConfidence</th>\n",
       "      <th>TatumsStart</th>\n",
       "      <th>Tempo</th>\n",
       "      <th>TimeSignature</th>\n",
       "      <th>TimeSignatureConfidence</th>\n",
       "      <th>Year</th>\n",
       "    </tr>\n",
       "  </thead>\n",
       "  <tbody>\n",
       "    <tr>\n",
       "      <th>0</th>\n",
       "      <td>0.557460</td>\n",
       "      <td>0.386152</td>\n",
       "      <td>46.71067</td>\n",
       "      <td>1.71819</td>\n",
       "      <td>[0.179 0.373]</td>\n",
       "      <td>[0.52458 2.4444 ]</td>\n",
       "      <td>[0.886 0.725 0.748 0.721 0.784 0.417]</td>\n",
       "      <td>[0.04257 0.52458 1.00659 1.48632 1.96605 2.4444 ]</td>\n",
       "      <td>0.0</td>\n",
       "      <td>148.74077</td>\n",
       "      <td>...</td>\n",
       "      <td>[0.      0.19543 0.02958 0.0238 ]</td>\n",
       "      <td>[-60.    -60.    -55.39  -46.295]</td>\n",
       "      <td>[0.      0.19188 0.60499 0.84939]</td>\n",
       "      <td>1</td>\n",
       "      <td>[0. 0. 0.]</td>\n",
       "      <td>[0.04257 0.28357 0.52458]</td>\n",
       "      <td>124.059</td>\n",
       "      <td>4</td>\n",
       "      <td>0.372</td>\n",
       "      <td>2008</td>\n",
       "    </tr>\n",
       "    <tr>\n",
       "      <th>1</th>\n",
       "      <td>0.626958</td>\n",
       "      <td>0.434860</td>\n",
       "      <td>0.00000</td>\n",
       "      <td>0.00000</td>\n",
       "      <td>[0.716 0.306]</td>\n",
       "      <td>[ 8.69527 12.01758]</td>\n",
       "      <td>[0.773 0.247 0.402 0.115 0.092 0.436]</td>\n",
       "      <td>[0.59161 1.33555 2.07949 2.82093 3.56238 4.325  ]</td>\n",
       "      <td>0.0</td>\n",
       "      <td>252.99546</td>\n",
       "      <td>...</td>\n",
       "      <td>[0.46727 0.08541 0.0262  0.05198]</td>\n",
       "      <td>[-60.    -59.869 -37.121 -39.899]</td>\n",
       "      <td>[0.      0.51379 0.89138 1.30912]</td>\n",
       "      <td>0</td>\n",
       "      <td>[0.365 0.321 0.29 ]</td>\n",
       "      <td>[0.59161 0.84042 1.08799]</td>\n",
       "      <td>80.084</td>\n",
       "      <td>4</td>\n",
       "      <td>0.533</td>\n",
       "      <td>2004</td>\n",
       "    </tr>\n",
       "    <tr>\n",
       "      <th>2</th>\n",
       "      <td>0.425724</td>\n",
       "      <td>0.000000</td>\n",
       "      <td>0.00000</td>\n",
       "      <td>0.00000</td>\n",
       "      <td>[0.014 0.025]</td>\n",
       "      <td>[1.95344 6.35701]</td>\n",
       "      <td>[0.506 0.467 0.45  0.682 0.341 0.406]</td>\n",
       "      <td>[1.95344 3.0622  4.16548 5.26467 6.35701 7.45064]</td>\n",
       "      <td>0.0</td>\n",
       "      <td>78.02730</td>\n",
       "      <td>...</td>\n",
       "      <td>[0.96943 0.11297 0.10248 0.13633]</td>\n",
       "      <td>[-60.    -57.069 -44.994 -35.805]</td>\n",
       "      <td>[0.      0.97365 1.34431 1.81351]</td>\n",
       "      <td>0</td>\n",
       "      <td>[0.307 0.305 0.291]</td>\n",
       "      <td>[1.11537 1.39701 1.67864]</td>\n",
       "      <td>54.874</td>\n",
       "      <td>4</td>\n",
       "      <td>0.000</td>\n",
       "      <td>0</td>\n",
       "    </tr>\n",
       "    <tr>\n",
       "      <th>3</th>\n",
       "      <td>0.611495</td>\n",
       "      <td>0.334520</td>\n",
       "      <td>0.00000</td>\n",
       "      <td>0.00000</td>\n",
       "      <td>[0.095 0.147]</td>\n",
       "      <td>[0.39309 2.75109]</td>\n",
       "      <td>[0.862 0.509 0.011 0.39  0.479 0.422]</td>\n",
       "      <td>[0.39309 1.17222 1.95902 2.75109 3.55236 4.3418 ]</td>\n",
       "      <td>0.0</td>\n",
       "      <td>163.63057</td>\n",
       "      <td>...</td>\n",
       "      <td>[0.0486  0.04473 0.01745 0.02479]</td>\n",
       "      <td>[-60.    -41.859 -13.428 -14.469]</td>\n",
       "      <td>[0.      0.07306 0.36862 0.64739]</td>\n",
       "      <td>0</td>\n",
       "      <td>[0.731 0.628 0.526]</td>\n",
       "      <td>[0.11929 0.39309 0.65603]</td>\n",
       "      <td>77.150</td>\n",
       "      <td>3</td>\n",
       "      <td>0.369</td>\n",
       "      <td>2007</td>\n",
       "    </tr>\n",
       "    <tr>\n",
       "      <th>4</th>\n",
       "      <td>0.367255</td>\n",
       "      <td>0.311616</td>\n",
       "      <td>0.00000</td>\n",
       "      <td>0.00000</td>\n",
       "      <td>[0.32  0.081]</td>\n",
       "      <td>[0.99301 2.99441]</td>\n",
       "      <td>[0.382 0.374 0.464 0.343 0.553 0.49 ]</td>\n",
       "      <td>[0.49266 0.99301 1.49336 1.99371 2.49406 2.99441]</td>\n",
       "      <td>0.0</td>\n",
       "      <td>199.99302</td>\n",
       "      <td>...</td>\n",
       "      <td>[0.16177 0.11733 0.07996 0.1559 ]</td>\n",
       "      <td>[-60.    -42.284 -36.763 -38.886]</td>\n",
       "      <td>[0.      0.3166  0.82195 1.2751 ]</td>\n",
       "      <td>0</td>\n",
       "      <td>[0. 0. 0.]</td>\n",
       "      <td>[0.24248 0.49266 0.74283]</td>\n",
       "      <td>120.382</td>\n",
       "      <td>4</td>\n",
       "      <td>1.000</td>\n",
       "      <td>0</td>\n",
       "    </tr>\n",
       "  </tbody>\n",
       "</table>\n",
       "<p>5 rows × 30 columns</p>\n",
       "</div>"
      ],
      "text/plain": [
       "   ArtistFamiliarity  ArtistHotttnesss  ArtistLatitude  ArtistLongitude  \\\n",
       "0           0.557460          0.386152        46.71067          1.71819   \n",
       "1           0.626958          0.434860         0.00000          0.00000   \n",
       "2           0.425724          0.000000         0.00000          0.00000   \n",
       "3           0.611495          0.334520         0.00000          0.00000   \n",
       "4           0.367255          0.311616         0.00000          0.00000   \n",
       "\n",
       "  BarsConfidence            BarsStart                        BeatsConfidence  \\\n",
       "0  [0.179 0.373]    [0.52458 2.4444 ]  [0.886 0.725 0.748 0.721 0.784 0.417]   \n",
       "1  [0.716 0.306]  [ 8.69527 12.01758]  [0.773 0.247 0.402 0.115 0.092 0.436]   \n",
       "2  [0.014 0.025]    [1.95344 6.35701]  [0.506 0.467 0.45  0.682 0.341 0.406]   \n",
       "3  [0.095 0.147]    [0.39309 2.75109]  [0.862 0.509 0.011 0.39  0.479 0.422]   \n",
       "4  [0.32  0.081]    [0.99301 2.99441]  [0.382 0.374 0.464 0.343 0.553 0.49 ]   \n",
       "\n",
       "                                          BeatsStart  Danceability   Duration  \\\n",
       "0  [0.04257 0.52458 1.00659 1.48632 1.96605 2.4444 ]           0.0  148.74077   \n",
       "1  [0.59161 1.33555 2.07949 2.82093 3.56238 4.325  ]           0.0  252.99546   \n",
       "2  [1.95344 3.0622  4.16548 5.26467 6.35701 7.45064]           0.0   78.02730   \n",
       "3  [0.39309 1.17222 1.95902 2.75109 3.55236 4.3418 ]           0.0  163.63057   \n",
       "4  [0.49266 0.99301 1.49336 1.99371 2.49406 2.99441]           0.0  199.99302   \n",
       "\n",
       "   ...            SegmentsLoudnessMaxTime           SegmentsLoudnessMaxStart  \\\n",
       "0  ...  [0.      0.19543 0.02958 0.0238 ]  [-60.    -60.    -55.39  -46.295]   \n",
       "1  ...  [0.46727 0.08541 0.0262  0.05198]  [-60.    -59.869 -37.121 -39.899]   \n",
       "2  ...  [0.96943 0.11297 0.10248 0.13633]  [-60.    -57.069 -44.994 -35.805]   \n",
       "3  ...  [0.0486  0.04473 0.01745 0.02479]  [-60.    -41.859 -13.428 -14.469]   \n",
       "4  ...  [0.16177 0.11733 0.07996 0.1559 ]  [-60.    -42.284 -36.763 -38.886]   \n",
       "\n",
       "                       SegmentsStart  SongHotttnesss     TatumsConfidence  \\\n",
       "0  [0.      0.19188 0.60499 0.84939]               1           [0. 0. 0.]   \n",
       "1  [0.      0.51379 0.89138 1.30912]               0  [0.365 0.321 0.29 ]   \n",
       "2  [0.      0.97365 1.34431 1.81351]               0  [0.307 0.305 0.291]   \n",
       "3  [0.      0.07306 0.36862 0.64739]               0  [0.731 0.628 0.526]   \n",
       "4  [0.      0.3166  0.82195 1.2751 ]               0           [0. 0. 0.]   \n",
       "\n",
       "                 TatumsStart    Tempo TimeSignature TimeSignatureConfidence  \\\n",
       "0  [0.04257 0.28357 0.52458]  124.059             4                   0.372   \n",
       "1  [0.59161 0.84042 1.08799]   80.084             4                   0.533   \n",
       "2  [1.11537 1.39701 1.67864]   54.874             4                   0.000   \n",
       "3  [0.11929 0.39309 0.65603]   77.150             3                   0.369   \n",
       "4  [0.24248 0.49266 0.74283]  120.382             4                   1.000   \n",
       "\n",
       "   Year  \n",
       "0  2008  \n",
       "1  2004  \n",
       "2     0  \n",
       "3  2007  \n",
       "4     0  \n",
       "\n",
       "[5 rows x 30 columns]"
      ]
     },
     "execution_count": 18,
     "metadata": {},
     "output_type": "execute_result"
    }
   ],
   "source": [
    "list_df.head()"
   ]
  },
  {
   "cell_type": "code",
   "execution_count": 19,
   "metadata": {},
   "outputs": [
    {
     "data": {
      "text/html": [
       "<div>\n",
       "<style scoped>\n",
       "    .dataframe tbody tr th:only-of-type {\n",
       "        vertical-align: middle;\n",
       "    }\n",
       "\n",
       "    .dataframe tbody tr th {\n",
       "        vertical-align: top;\n",
       "    }\n",
       "\n",
       "    .dataframe thead th {\n",
       "        text-align: right;\n",
       "    }\n",
       "</style>\n",
       "<table border=\"1\" class=\"dataframe\">\n",
       "  <thead>\n",
       "    <tr style=\"text-align: right;\">\n",
       "      <th></th>\n",
       "      <th>ArtistFamiliarity</th>\n",
       "      <th>ArtistHotttnesss</th>\n",
       "      <th>ArtistLatitude</th>\n",
       "      <th>ArtistLongitude</th>\n",
       "      <th>BarsConfidence</th>\n",
       "      <th>BarsStart</th>\n",
       "      <th>BeatsConfidence</th>\n",
       "      <th>BeatsStart</th>\n",
       "      <th>Danceability</th>\n",
       "      <th>Duration</th>\n",
       "      <th>...</th>\n",
       "      <th>SegmentsLoudnessMaxTime</th>\n",
       "      <th>SegmentsLoudnessMaxStart</th>\n",
       "      <th>SegmentsStart</th>\n",
       "      <th>SongHotttnesss</th>\n",
       "      <th>TatumsConfidence</th>\n",
       "      <th>TatumsStart</th>\n",
       "      <th>Tempo</th>\n",
       "      <th>TimeSignature</th>\n",
       "      <th>TimeSignatureConfidence</th>\n",
       "      <th>Year</th>\n",
       "    </tr>\n",
       "  </thead>\n",
       "  <tbody>\n",
       "    <tr>\n",
       "      <th>0</th>\n",
       "      <td>0.557460</td>\n",
       "      <td>0.386152</td>\n",
       "      <td>46.71067</td>\n",
       "      <td>1.71819</td>\n",
       "      <td>0.136000</td>\n",
       "      <td>70.298204</td>\n",
       "      <td>0.647949</td>\n",
       "      <td>71.025470</td>\n",
       "      <td>0.0</td>\n",
       "      <td>148.74077</td>\n",
       "      <td>...</td>\n",
       "      <td>0.052350</td>\n",
       "      <td>-19.229238</td>\n",
       "      <td>69.930830</td>\n",
       "      <td>0.547953</td>\n",
       "      <td>0.322668</td>\n",
       "      <td>71.025247</td>\n",
       "      <td>124.059</td>\n",
       "      <td>4</td>\n",
       "      <td>0.372</td>\n",
       "      <td>2008</td>\n",
       "    </tr>\n",
       "    <tr>\n",
       "      <th>1</th>\n",
       "      <td>0.626958</td>\n",
       "      <td>0.434860</td>\n",
       "      <td>0.00000</td>\n",
       "      <td>0.00000</td>\n",
       "      <td>0.163623</td>\n",
       "      <td>130.630938</td>\n",
       "      <td>0.346571</td>\n",
       "      <td>123.794350</td>\n",
       "      <td>0.0</td>\n",
       "      <td>252.99546</td>\n",
       "      <td>...</td>\n",
       "      <td>0.086557</td>\n",
       "      <td>-21.786326</td>\n",
       "      <td>117.884180</td>\n",
       "      <td>0.475638</td>\n",
       "      <td>0.089049</td>\n",
       "      <td>123.792848</td>\n",
       "      <td>80.084</td>\n",
       "      <td>4</td>\n",
       "      <td>0.533</td>\n",
       "      <td>2004</td>\n",
       "    </tr>\n",
       "    <tr>\n",
       "      <th>2</th>\n",
       "      <td>0.425724</td>\n",
       "      <td>0.000000</td>\n",
       "      <td>0.00000</td>\n",
       "      <td>0.00000</td>\n",
       "      <td>0.110357</td>\n",
       "      <td>30.497964</td>\n",
       "      <td>0.594763</td>\n",
       "      <td>33.789365</td>\n",
       "      <td>0.0</td>\n",
       "      <td>78.02730</td>\n",
       "      <td>...</td>\n",
       "      <td>0.097573</td>\n",
       "      <td>-33.395346</td>\n",
       "      <td>33.192217</td>\n",
       "      <td>0.000000</td>\n",
       "      <td>0.222222</td>\n",
       "      <td>33.788618</td>\n",
       "      <td>54.874</td>\n",
       "      <td>4</td>\n",
       "      <td>0.000</td>\n",
       "      <td>0</td>\n",
       "    </tr>\n",
       "    <tr>\n",
       "      <th>3</th>\n",
       "      <td>0.611495</td>\n",
       "      <td>0.334520</td>\n",
       "      <td>0.00000</td>\n",
       "      <td>0.00000</td>\n",
       "      <td>0.148167</td>\n",
       "      <td>79.627999</td>\n",
       "      <td>0.303867</td>\n",
       "      <td>79.666289</td>\n",
       "      <td>0.0</td>\n",
       "      <td>163.63057</td>\n",
       "      <td>...</td>\n",
       "      <td>0.054662</td>\n",
       "      <td>-10.498846</td>\n",
       "      <td>75.375229</td>\n",
       "      <td>0.000000</td>\n",
       "      <td>0.093216</td>\n",
       "      <td>79.796557</td>\n",
       "      <td>77.150</td>\n",
       "      <td>3</td>\n",
       "      <td>0.369</td>\n",
       "      <td>2007</td>\n",
       "    </tr>\n",
       "    <tr>\n",
       "      <th>4</th>\n",
       "      <td>0.367255</td>\n",
       "      <td>0.311616</td>\n",
       "      <td>0.00000</td>\n",
       "      <td>0.00000</td>\n",
       "      <td>0.124979</td>\n",
       "      <td>97.253457</td>\n",
       "      <td>0.356867</td>\n",
       "      <td>98.247921</td>\n",
       "      <td>0.0</td>\n",
       "      <td>199.99302</td>\n",
       "      <td>...</td>\n",
       "      <td>0.101949</td>\n",
       "      <td>-26.980752</td>\n",
       "      <td>94.439833</td>\n",
       "      <td>0.000000</td>\n",
       "      <td>0.105013</td>\n",
       "      <td>98.247266</td>\n",
       "      <td>120.382</td>\n",
       "      <td>4</td>\n",
       "      <td>1.000</td>\n",
       "      <td>0</td>\n",
       "    </tr>\n",
       "  </tbody>\n",
       "</table>\n",
       "<p>5 rows × 30 columns</p>\n",
       "</div>"
      ],
      "text/plain": [
       "   ArtistFamiliarity  ArtistHotttnesss  ArtistLatitude  ArtistLongitude  \\\n",
       "0           0.557460          0.386152        46.71067          1.71819   \n",
       "1           0.626958          0.434860         0.00000          0.00000   \n",
       "2           0.425724          0.000000         0.00000          0.00000   \n",
       "3           0.611495          0.334520         0.00000          0.00000   \n",
       "4           0.367255          0.311616         0.00000          0.00000   \n",
       "\n",
       "   BarsConfidence   BarsStart  BeatsConfidence  BeatsStart  Danceability  \\\n",
       "0        0.136000   70.298204         0.647949   71.025470           0.0   \n",
       "1        0.163623  130.630938         0.346571  123.794350           0.0   \n",
       "2        0.110357   30.497964         0.594763   33.789365           0.0   \n",
       "3        0.148167   79.627999         0.303867   79.666289           0.0   \n",
       "4        0.124979   97.253457         0.356867   98.247921           0.0   \n",
       "\n",
       "    Duration  ...  SegmentsLoudnessMaxTime  SegmentsLoudnessMaxStart  \\\n",
       "0  148.74077  ...                 0.052350                -19.229238   \n",
       "1  252.99546  ...                 0.086557                -21.786326   \n",
       "2   78.02730  ...                 0.097573                -33.395346   \n",
       "3  163.63057  ...                 0.054662                -10.498846   \n",
       "4  199.99302  ...                 0.101949                -26.980752   \n",
       "\n",
       "   SegmentsStart  SongHotttnesss  TatumsConfidence  TatumsStart    Tempo  \\\n",
       "0      69.930830        0.547953          0.322668    71.025247  124.059   \n",
       "1     117.884180        0.475638          0.089049   123.792848   80.084   \n",
       "2      33.192217        0.000000          0.222222    33.788618   54.874   \n",
       "3      75.375229        0.000000          0.093216    79.796557   77.150   \n",
       "4      94.439833        0.000000          0.105013    98.247266  120.382   \n",
       "\n",
       "   TimeSignature  TimeSignatureConfidence  Year  \n",
       "0              4                    0.372  2008  \n",
       "1              4                    0.533  2004  \n",
       "2              4                    0.000     0  \n",
       "3              3                    0.369  2007  \n",
       "4              4                    1.000     0  \n",
       "\n",
       "[5 rows x 30 columns]"
      ]
     },
     "execution_count": 19,
     "metadata": {},
     "output_type": "execute_result"
    }
   ],
   "source": [
    "average_df.head()"
   ]
  },
  {
   "cell_type": "code",
   "execution_count": 15,
   "metadata": {
    "collapsed": true
   },
   "outputs": [],
   "source": [
    "# Choose one of the dfs to work with, choose is_listdf to be True or False accordingly\n",
    "df = list_df\n",
    "is_listdf = True "
   ]
  },
  {
   "cell_type": "code",
   "execution_count": 16,
   "metadata": {
    "collapsed": true
   },
   "outputs": [],
   "source": [
    "# If we want to use list data, make the list part of the observation rather than having a list of lists\n",
    "def flatten_lists(data):\n",
    "    new_data = []\n",
    "    \n",
    "    for obs in data:\n",
    "        new_el = []\n",
    "        for el in obs:\n",
    "            if isinstance(el, str):\n",
    "                corrected_els = [float(e) for e in el.replace(\"]\", \"\").replace(\"[\", \"\").split()]\n",
    "                new_el.extend(corrected_els)\n",
    "            else:\n",
    "                new_el.append(el)\n",
    "        \n",
    "        new_data.append(new_el)\n",
    "    \n",
    "    return np.array(new_data)"
   ]
  },
  {
   "cell_type": "code",
   "execution_count": 145,
   "metadata": {},
   "outputs": [
    {
     "name": "stdout",
     "output_type": "stream",
     "text": [
      "(10000, 64) (10000,)\n"
     ]
    }
   ],
   "source": [
    "# PREPROCESSING!!!!!\n",
    "\n",
    "# Make the target variable binary \n",
    "# TODO What if we make this above average rather than 0.5\n",
    "threshold = 0.45\n",
    "df[\"SongHotttnesss\"] = pd.Series([1 if i > threshold else 0 for i in df[\"SongHotttnesss\"]])\n",
    "\n",
    "# Target variable index\n",
    "tg_idx = df.columns.get_loc(\"SongHotttnesss\")\n",
    "\n",
    "# Get your X and y\n",
    "numeric_data = df.values\n",
    "y = numeric_data[:, tg_idx].astype(float)\n",
    "X = np.delete(numeric_data, tg_idx, 1)\n",
    "\n",
    "# Flatten lists IF USING DF \n",
    "if is_listdf:\n",
    "    X = flatten_lists(X)\n",
    "\n",
    "print(X.shape, y.shape)\n",
    "\n",
    "X_train, X_test, y_train, y_test = model_selection.train_test_split(X, y, test_size=0.25, random_state=42)"
   ]
  },
  {
   "cell_type": "code",
   "execution_count": 157,
   "metadata": {},
   "outputs": [],
   "source": [
    "# Method to test any classifier and print metrics\n",
    "def test_classifier(clf, X_test, y_test, name, grid_search=False, save = False):\n",
    "    preds = clf.predict(X_test)\n",
    "    \n",
    "    # Normal metrics\n",
    "    print(\"GENERAL METRICS:\")\n",
    "    print(\"Accuracy: \", metrics.accuracy_score(y_test, preds))\n",
    "    print(\"Precision: \", metrics.precision_score(y_test, preds))\n",
    "    print(\"Recall: \", metrics.recall_score(y_test, preds))\n",
    "    print(\"F1 score: \", metrics.f1_score(y_test, preds))\n",
    "    print()\n",
    "    print(classification_report(y_test, preds))\n",
    "    print()\n",
    "    \n",
    "    # Confusion matrix\n",
    "    cm = confusion_matrix(y_test, preds)\n",
    "    print(\"Original Confusion Matrix\")\n",
    "    print(cm)\n",
    "    print()\n",
    "    \n",
    "    plt.figure(figsize=(10,5))\n",
    "    plt.subplot(1, 2, 1)\n",
    "    plot_confusion_matrix(cm, classes=['Not Hot','Hot'], normalize=True,\n",
    "                          title=name + ' Confusion matrix')\n",
    "    \n",
    "    print()\n",
    "    print(\"ROC curve + Confusion matrix\")\n",
    "    \n",
    "    # ROC curve (from https://stackoverflow.com/questions/25009284/how-to-plot-roc-curve-in-python)\n",
    "    pred_probs = clf.predict_proba(X_test)[:,1]\n",
    "    fpr, tpr, _ = roc_curve(y_test,  pred_probs)\n",
    "    auc = roc_auc_score(y_test, pred_probs)\n",
    "    plt.subplot(1, 2, 2)\n",
    "    plt.plot(fpr,tpr,label=\"AUC=\"+str(auc))\n",
    "    plt.legend(loc=4)\n",
    "    \n",
    "    plt.subplots_adjust(left=None, bottom=None, right=None, top=None, wspace=0.7, hspace=None)\n",
    "    \n",
    "    if save == True: \n",
    "        plt.savefig(fname = name + '_metrics.jpg')\n",
    "        \n",
    "    plt.show()\n",
    "    \n",
    "    # Best parameters\n",
    "    if grid_search:\n",
    "        print(\"Best parameters for classifier are:\")\n",
    "        print(gs_svm.best_params_)\n",
    "    \n",
    "    return preds"
   ]
  },
  {
   "cell_type": "code",
   "execution_count": 23,
   "metadata": {
    "collapsed": true
   },
   "outputs": [],
   "source": [
    "# CODE TAKEN FROM SKLEARN CONFUSION MATRIX PAGE! -> https://scikit-learn.org/stable/modules/generated/sklearn.metrics.confusion_matrix.html\n",
    "import itertools\n",
    "\n",
    "def plot_confusion_matrix(cm, classes,\n",
    "                          normalize=False,\n",
    "                          title='Confusion matrix',\n",
    "                          cmap=plt.cm.Blues):\n",
    "    \"\"\"\n",
    "    This function prints and plots the confusion matrix.\n",
    "    Normalization can be applied by setting `normalize=True`.\n",
    "    \"\"\"\n",
    "    \n",
    "    if normalize:\n",
    "        cm = cm.astype('float') / cm.sum(axis=1)[:, np.newaxis]\n",
    "        print(\"Normalized confusion matrix\")\n",
    "    else:\n",
    "        print('Confusion matrix, without normalization')\n",
    "\n",
    "    print(cm)\n",
    "\n",
    "    plt.imshow(cm, interpolation='nearest', cmap=cmap)\n",
    "    plt.title(title)\n",
    "    plt.colorbar()\n",
    "    tick_marks = np.arange(len(classes))\n",
    "    plt.xticks(tick_marks, classes, rotation=45)\n",
    "    plt.yticks(tick_marks, classes)\n",
    "\n",
    "    fmt = '.2f' if normalize else 'd'\n",
    "    thresh = cm.max() / 2.\n",
    "    for i, j in itertools.product(range(cm.shape[0]), range(cm.shape[1])):\n",
    "        plt.text(j, i, format(cm[i, j], fmt),\n",
    "                 horizontalalignment=\"center\",\n",
    "                 color=\"white\" if cm[i, j] > thresh else \"black\")\n",
    "\n",
    "    plt.ylabel('True label')\n",
    "    plt.xlabel('Predicted label')\n",
    "    plt.tight_layout()\n"
   ]
  },
  {
   "cell_type": "markdown",
   "metadata": {},
   "source": [
    "## Multi-Layer Perceptron (NN) "
   ]
  },
  {
   "cell_type": "code",
   "execution_count": 146,
   "metadata": {},
   "outputs": [],
   "source": [
    "from sklearn.neural_network import MLPClassifier\n",
    "mlp = MLPClassifier(random_state = 1, hidden_layer_sizes=(150,100,50,25,10))\n",
    "\n",
    "mlp_params = {'hidden_layer_sizes':[(100, 50, 15)]}\n",
    "gs_mlp = GridSearchCV(mlp, param_grid=mlp_params, cv=10, scoring=\"f1\",  verbose=10)"
   ]
  },
  {
   "cell_type": "code",
   "execution_count": 159,
   "metadata": {},
   "outputs": [
    {
     "name": "stdout",
     "output_type": "stream",
     "text": [
      "Fitting 10 folds for each of 1 candidates, totalling 10 fits\n",
      "[CV] hidden_layer_sizes=(100, 50, 15) ................................\n",
      "[CV]  hidden_layer_sizes=(100, 50, 15), score=0.39915074309978765, total=   0.5s\n",
      "[CV] hidden_layer_sizes=(100, 50, 15) ................................\n"
     ]
    },
    {
     "name": "stderr",
     "output_type": "stream",
     "text": [
      "[Parallel(n_jobs=1)]: Done   1 out of   1 | elapsed:    0.5s remaining:    0.0s\n"
     ]
    },
    {
     "name": "stdout",
     "output_type": "stream",
     "text": [
      "[CV]  hidden_layer_sizes=(100, 50, 15), score=0.045112781954887216, total=   0.9s\n",
      "[CV] hidden_layer_sizes=(100, 50, 15) ................................\n"
     ]
    },
    {
     "name": "stderr",
     "output_type": "stream",
     "text": [
      "[Parallel(n_jobs=1)]: Done   2 out of   2 | elapsed:    1.5s remaining:    0.0s\n"
     ]
    },
    {
     "name": "stdout",
     "output_type": "stream",
     "text": [
      "[CV] ...... hidden_layer_sizes=(100, 50, 15), score=0.0, total=   0.9s\n",
      "[CV] hidden_layer_sizes=(100, 50, 15) ................................\n"
     ]
    },
    {
     "name": "stderr",
     "output_type": "stream",
     "text": [
      "[Parallel(n_jobs=1)]: Done   3 out of   3 | elapsed:    2.5s remaining:    0.0s\n"
     ]
    },
    {
     "name": "stdout",
     "output_type": "stream",
     "text": [
      "[CV]  hidden_layer_sizes=(100, 50, 15), score=0.23668639053254437, total=   1.5s\n",
      "[CV] hidden_layer_sizes=(100, 50, 15) ................................\n"
     ]
    },
    {
     "name": "stderr",
     "output_type": "stream",
     "text": [
      "[Parallel(n_jobs=1)]: Done   4 out of   4 | elapsed:    4.0s remaining:    0.0s\n",
      "/Users/Kyelee/anaconda3/lib/python3.6/site-packages/sklearn/metrics/classification.py:1135: UndefinedMetricWarning: F-score is ill-defined and being set to 0.0 due to no predicted samples.\n",
      "  'precision', 'predicted', average, warn_for)\n",
      "[Parallel(n_jobs=1)]: Done   5 out of   5 | elapsed:    4.9s remaining:    0.0s\n"
     ]
    },
    {
     "name": "stdout",
     "output_type": "stream",
     "text": [
      "[CV] ...... hidden_layer_sizes=(100, 50, 15), score=0.0, total=   0.8s\n",
      "[CV] hidden_layer_sizes=(100, 50, 15) ................................\n",
      "[CV]  hidden_layer_sizes=(100, 50, 15), score=0.4042105263157895, total=   0.5s\n",
      "[CV] hidden_layer_sizes=(100, 50, 15) ................................\n"
     ]
    },
    {
     "name": "stderr",
     "output_type": "stream",
     "text": [
      "[Parallel(n_jobs=1)]: Done   6 out of   6 | elapsed:    5.4s remaining:    0.0s\n"
     ]
    },
    {
     "name": "stdout",
     "output_type": "stream",
     "text": [
      "[CV] ...... hidden_layer_sizes=(100, 50, 15), score=0.0, total=   0.7s\n",
      "[CV] hidden_layer_sizes=(100, 50, 15) ................................\n"
     ]
    },
    {
     "name": "stderr",
     "output_type": "stream",
     "text": [
      "[Parallel(n_jobs=1)]: Done   7 out of   7 | elapsed:    6.1s remaining:    0.0s\n"
     ]
    },
    {
     "name": "stdout",
     "output_type": "stream",
     "text": [
      "[CV]  hidden_layer_sizes=(100, 50, 15), score=0.2469135802469136, total=   1.2s\n",
      "[CV] hidden_layer_sizes=(100, 50, 15) ................................\n"
     ]
    },
    {
     "name": "stderr",
     "output_type": "stream",
     "text": [
      "[Parallel(n_jobs=1)]: Done   8 out of   8 | elapsed:    7.3s remaining:    0.0s\n",
      "/Users/Kyelee/anaconda3/lib/python3.6/site-packages/sklearn/metrics/classification.py:1135: UndefinedMetricWarning: F-score is ill-defined and being set to 0.0 due to no predicted samples.\n",
      "  'precision', 'predicted', average, warn_for)\n",
      "[Parallel(n_jobs=1)]: Done   9 out of   9 | elapsed:    8.4s remaining:    0.0s\n"
     ]
    },
    {
     "name": "stdout",
     "output_type": "stream",
     "text": [
      "[CV] ...... hidden_layer_sizes=(100, 50, 15), score=0.0, total=   1.0s\n",
      "[CV] hidden_layer_sizes=(100, 50, 15) ................................\n",
      "[CV]  hidden_layer_sizes=(100, 50, 15), score=0.028169014084507043, total=   0.5s\n"
     ]
    },
    {
     "name": "stderr",
     "output_type": "stream",
     "text": [
      "[Parallel(n_jobs=1)]: Done  10 out of  10 | elapsed:    8.9s finished\n"
     ]
    },
    {
     "data": {
      "text/plain": [
       "GridSearchCV(cv=10, error_score='raise',\n",
       "       estimator=MLPClassifier(activation='relu', alpha=0.0001, batch_size='auto', beta_1=0.9,\n",
       "       beta_2=0.999, early_stopping=False, epsilon=1e-08,\n",
       "       hidden_layer_sizes=(150, 100, 50, 25, 10), learning_rate='constant',\n",
       "       learning_rate_init=0.001, max_iter=200, momentum=0.9,\n",
       "       nesterovs_momentum=True, power_t=0.5, random_state=None,\n",
       "       shuffle=True, solver='adam', tol=0.0001, validation_fraction=0.1,\n",
       "       verbose=False, warm_start=False),\n",
       "       fit_params=None, iid=True, n_jobs=1,\n",
       "       param_grid={'hidden_layer_sizes': [(100, 50, 15)]},\n",
       "       pre_dispatch='2*n_jobs', refit=True, return_train_score='warn',\n",
       "       scoring='f1', verbose=10)"
      ]
     },
     "execution_count": 159,
     "metadata": {},
     "output_type": "execute_result"
    }
   ],
   "source": [
    "gs_mlp.fit(X_train, y_train)"
   ]
  },
  {
   "cell_type": "code",
   "execution_count": 161,
   "metadata": {},
   "outputs": [
    {
     "name": "stdout",
     "output_type": "stream",
     "text": [
      "GENERAL METRICS:\n",
      "Accuracy:  0.8084\n",
      "Precision:  0.41132075471698115\n",
      "Recall:  0.2523148148148148\n",
      "F1 score:  0.31276901004304164\n",
      "\n",
      "             precision    recall  f1-score   support\n",
      "\n",
      "        0.0       0.86      0.92      0.89      2068\n",
      "        1.0       0.41      0.25      0.31       432\n",
      "\n",
      "avg / total       0.78      0.81      0.79      2500\n",
      "\n",
      "\n",
      "Original Confusion Matrix\n",
      "[[1912  156]\n",
      " [ 323  109]]\n",
      "\n",
      "Normalized confusion matrix\n",
      "[[0.9245648  0.0754352 ]\n",
      " [0.74768519 0.25231481]]\n",
      "\n",
      "ROC curve + Confusion matrix\n"
     ]
    },
    {
     "data": {
      "image/png": "[encoded data removed]",
      "text/plain": [
       "<Figure size 720x360 with 3 Axes>"
      ]
     },
     "metadata": {},
     "output_type": "display_data"
    },
    {
     "name": "stdout",
     "output_type": "stream",
     "text": [
      "Best parameters for classifier are:\n",
      "{'C': 20, 'gamma': 0.001}\n"
     ]
    }
   ],
   "source": [
    "gsmlp_preds = test_classifier(gs_mlp, X_test, y_test, name = 'MLP', grid_search=True, save = False)"
   ]
  },
  {
   "cell_type": "markdown",
   "metadata": {},
   "source": [
    "## SVM"
   ]
  },
  {
   "cell_type": "code",
   "execution_count": 153,
   "metadata": {
    "collapsed": true
   },
   "outputs": [],
   "source": [
    "from sklearn.svm import SVC\n",
    "\n",
    "svm = SVC(probability=True, class_weight = 'balanced')\n",
    "\n",
    "# svm_params = {'C':[3, 8, 15, 20], 'degree':[2, 3, 4, 5], 'gamma':list(np.arange(0.001, 0.006, 0.001))}\n",
    "svm_params = {'C':[20, 30, 40], 'gamma':[0.001]}\n",
    "gs_svm = GridSearchCV(svm, param_grid=svm_params, cv=10, scoring=\"f1\",  verbose=10)"
   ]
  },
  {
   "cell_type": "code",
   "execution_count": 154,
   "metadata": {},
   "outputs": [
    {
     "name": "stdout",
     "output_type": "stream",
     "text": [
      "Fitting 10 folds for each of 3 candidates, totalling 30 fits\n",
      "[CV] C=20, gamma=0.001 ...............................................\n",
      "[CV] ..... C=20, gamma=0.001, score=0.18536585365853658, total=  32.6s\n",
      "[CV] C=20, gamma=0.001 ...............................................\n"
     ]
    },
    {
     "name": "stderr",
     "output_type": "stream",
     "text": [
      "[Parallel(n_jobs=1)]: Done   1 out of   1 | elapsed:   35.1s remaining:    0.0s\n"
     ]
    },
    {
     "name": "stdout",
     "output_type": "stream",
     "text": [
      "[CV] ..... C=20, gamma=0.001, score=0.27184466019417475, total=  27.5s\n",
      "[CV] C=20, gamma=0.001 ...............................................\n"
     ]
    },
    {
     "name": "stderr",
     "output_type": "stream",
     "text": [
      "[Parallel(n_jobs=1)]: Done   2 out of   2 | elapsed:  1.1min remaining:    0.0s\n"
     ]
    },
    {
     "name": "stdout",
     "output_type": "stream",
     "text": [
      "[CV] ..... C=20, gamma=0.001, score=0.25000000000000006, total=  28.3s\n",
      "[CV] C=20, gamma=0.001 ...............................................\n"
     ]
    },
    {
     "name": "stderr",
     "output_type": "stream",
     "text": [
      "[Parallel(n_jobs=1)]: Done   3 out of   3 | elapsed:  1.6min remaining:    0.0s\n"
     ]
    },
    {
     "name": "stdout",
     "output_type": "stream",
     "text": [
      "[CV] ..... C=20, gamma=0.001, score=0.21524663677130046, total=  29.0s\n",
      "[CV] C=20, gamma=0.001 ...............................................\n"
     ]
    },
    {
     "name": "stderr",
     "output_type": "stream",
     "text": [
      "[Parallel(n_jobs=1)]: Done   4 out of   4 | elapsed:  2.1min remaining:    0.0s\n"
     ]
    },
    {
     "name": "stdout",
     "output_type": "stream",
     "text": [
      "[CV] ..... C=20, gamma=0.001, score=0.27705627705627706, total=  30.3s\n",
      "[CV] C=20, gamma=0.001 ...............................................\n"
     ]
    },
    {
     "name": "stderr",
     "output_type": "stream",
     "text": [
      "[Parallel(n_jobs=1)]: Done   5 out of   5 | elapsed:  2.7min remaining:    0.0s\n"
     ]
    },
    {
     "name": "stdout",
     "output_type": "stream",
     "text": [
      "[CV] ..... C=20, gamma=0.001, score=0.22009569377990432, total=  31.9s\n",
      "[CV] C=20, gamma=0.001 ...............................................\n"
     ]
    },
    {
     "name": "stderr",
     "output_type": "stream",
     "text": [
      "[Parallel(n_jobs=1)]: Done   6 out of   6 | elapsed:  3.2min remaining:    0.0s\n"
     ]
    },
    {
     "name": "stdout",
     "output_type": "stream",
     "text": [
      "[CV] ...... C=20, gamma=0.001, score=0.2571428571428571, total=  35.6s\n",
      "[CV] C=20, gamma=0.001 ...............................................\n"
     ]
    },
    {
     "name": "stderr",
     "output_type": "stream",
     "text": [
      "[Parallel(n_jobs=1)]: Done   7 out of   7 | elapsed:  3.9min remaining:    0.0s\n"
     ]
    },
    {
     "name": "stdout",
     "output_type": "stream",
     "text": [
      "[CV] ..... C=20, gamma=0.001, score=0.24880382775119617, total=  24.5s\n",
      "[CV] C=20, gamma=0.001 ...............................................\n"
     ]
    },
    {
     "name": "stderr",
     "output_type": "stream",
     "text": [
      "[Parallel(n_jobs=1)]: Done   8 out of   8 | elapsed:  4.3min remaining:    0.0s\n"
     ]
    },
    {
     "name": "stdout",
     "output_type": "stream",
     "text": [
      "[CV] ..... C=20, gamma=0.001, score=0.21212121212121213, total=  29.8s\n",
      "[CV] C=20, gamma=0.001 ...............................................\n"
     ]
    },
    {
     "name": "stderr",
     "output_type": "stream",
     "text": [
      "[Parallel(n_jobs=1)]: Done   9 out of   9 | elapsed:  4.9min remaining:    0.0s\n"
     ]
    },
    {
     "name": "stdout",
     "output_type": "stream",
     "text": [
      "[CV] .................... C=20, gamma=0.001, score=0.32, total=  29.5s\n",
      "[CV] C=30, gamma=0.001 ...............................................\n",
      "[CV] ...... C=30, gamma=0.001, score=0.1862745098039216, total=  32.3s\n",
      "[CV] C=30, gamma=0.001 ...............................................\n",
      "[CV] ..... C=30, gamma=0.001, score=0.24752475247524752, total=  30.9s\n",
      "[CV] C=30, gamma=0.001 ...............................................\n",
      "[CV] ..... C=30, gamma=0.001, score=0.25120772946859904, total=  25.1s\n",
      "[CV] C=30, gamma=0.001 ...............................................\n",
      "[CV] ..... C=30, gamma=0.001, score=0.21818181818181817, total=  24.0s\n",
      "[CV] C=30, gamma=0.001 ...............................................\n",
      "[CV] ...... C=30, gamma=0.001, score=0.2794759825327511, total=  26.5s\n",
      "[CV] C=30, gamma=0.001 ...............................................\n",
      "[CV] ..... C=30, gamma=0.001, score=0.22857142857142856, total=  27.9s\n",
      "[CV] C=30, gamma=0.001 ...............................................\n",
      "[CV] ..... C=30, gamma=0.001, score=0.25000000000000006, total=  28.3s\n",
      "[CV] C=30, gamma=0.001 ...............................................\n",
      "[CV] ...... C=30, gamma=0.001, score=0.2524271844660194, total=  28.5s\n",
      "[CV] C=30, gamma=0.001 ...............................................\n",
      "[CV] ..... C=30, gamma=0.001, score=0.20408163265306123, total=  26.0s\n",
      "[CV] C=30, gamma=0.001 ...............................................\n",
      "[CV] .................. C=30, gamma=0.001, score=0.3125, total=  25.4s\n",
      "[CV] C=40, gamma=0.001 ...............................................\n",
      "[CV] ....... C=40, gamma=0.001, score=0.187192118226601, total=  25.2s\n",
      "[CV] C=40, gamma=0.001 ...............................................\n",
      "[CV] ..... C=40, gamma=0.001, score=0.24752475247524752, total=  23.7s\n",
      "[CV] C=40, gamma=0.001 ...............................................\n",
      "[CV] ..... C=40, gamma=0.001, score=0.26540284360189575, total=  24.7s\n",
      "[CV] C=40, gamma=0.001 ...............................................\n",
      "[CV] ..... C=40, gamma=0.001, score=0.23423423423423423, total=  24.1s\n",
      "[CV] C=40, gamma=0.001 ...............................................\n",
      "[CV] ...... C=40, gamma=0.001, score=0.2794759825327511, total=  23.9s\n",
      "[CV] C=40, gamma=0.001 ...............................................\n",
      "[CV] ..... C=40, gamma=0.001, score=0.23300970873786409, total=  23.9s\n",
      "[CV] C=40, gamma=0.001 ...............................................\n",
      "[CV] ...... C=40, gamma=0.001, score=0.2583732057416268, total=  24.1s\n",
      "[CV] C=40, gamma=0.001 ...............................................\n",
      "[CV] ...... C=40, gamma=0.001, score=0.2439024390243902, total=  25.9s\n",
      "[CV] C=40, gamma=0.001 ...............................................\n",
      "[CV] ...... C=40, gamma=0.001, score=0.1958762886597938, total=  26.1s\n",
      "[CV] C=40, gamma=0.001 ...............................................\n",
      "[CV] .................. C=40, gamma=0.001, score=0.3125, total=  24.5s\n"
     ]
    },
    {
     "name": "stderr",
     "output_type": "stream",
     "text": [
      "[Parallel(n_jobs=1)]: Done  30 out of  30 | elapsed: 14.8min finished\n"
     ]
    },
    {
     "data": {
      "text/plain": [
       "GridSearchCV(cv=10, error_score='raise',\n",
       "       estimator=SVC(C=1.0, cache_size=200, class_weight='balanced', coef0=0.0,\n",
       "  decision_function_shape='ovr', degree=3, gamma='auto', kernel='rbf',\n",
       "  max_iter=-1, probability=True, random_state=None, shrinking=True,\n",
       "  tol=0.001, verbose=False),\n",
       "       fit_params=None, iid=True, n_jobs=1,\n",
       "       param_grid={'C': [20, 30, 40], 'gamma': [0.001]},\n",
       "       pre_dispatch='2*n_jobs', refit=True, return_train_score='warn',\n",
       "       scoring='f1', verbose=10)"
      ]
     },
     "execution_count": 154,
     "metadata": {},
     "output_type": "execute_result"
    }
   ],
   "source": [
    "gs_svm.fit(X_train, y_train)"
   ]
  },
  {
   "cell_type": "code",
   "execution_count": 158,
   "metadata": {},
   "outputs": [
    {
     "name": "stdout",
     "output_type": "stream",
     "text": [
      "GENERAL METRICS:\n",
      "Accuracy:  0.7836\n",
      "Precision:  0.3201320132013201\n",
      "Recall:  0.22453703703703703\n",
      "F1 score:  0.2639455782312925\n",
      "\n",
      "             precision    recall  f1-score   support\n",
      "\n",
      "        0.0       0.85      0.90      0.87      2068\n",
      "        1.0       0.32      0.22      0.26       432\n",
      "\n",
      "avg / total       0.76      0.78      0.77      2500\n",
      "\n",
      "\n",
      "Original Confusion Matrix\n",
      "[[1862  206]\n",
      " [ 335   97]]\n",
      "\n",
      "Normalized confusion matrix\n",
      "[[0.90038685 0.09961315]\n",
      " [0.77546296 0.22453704]]\n",
      "\n",
      "ROC curve + Confusion matrix\n"
     ]
    },
    {
     "data": {
      "image/png": "[encoded data removed]",
      "text/plain": [
       "<Figure size 720x360 with 3 Axes>"
      ]
     },
     "metadata": {},
     "output_type": "display_data"
    },
    {
     "name": "stdout",
     "output_type": "stream",
     "text": [
      "Best parameters for classifier are:\n",
      "{'C': 20, 'gamma': 0.001}\n"
     ]
    }
   ],
   "source": [
    "gssvm_preds = test_classifier(gs_svm, X_test, y_test, name = 'SVM', grid_search=True, save = False)"
   ]
  },
  {
   "cell_type": "code",
   "execution_count": null,
   "metadata": {
    "collapsed": true
   },
   "outputs": [],
   "source": []
  }
 ],
 "metadata": {
  "kernelspec": {
   "display_name": "Python 3",
   "language": "python",
   "name": "python3"
  },
  "language_info": {
   "codemirror_mode": {
    "name": "ipython",
    "version": 3
   },
   "file_extension": ".py",
   "mimetype": "text/x-python",
   "name": "python",
   "nbconvert_exporter": "python",
   "pygments_lexer": "ipython3",
   "version": "3.6.3"
  }
 },
 "nbformat": 4,
 "nbformat_minor": 2
}
